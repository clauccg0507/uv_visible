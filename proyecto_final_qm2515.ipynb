{
  "nbformat": 4,
  "nbformat_minor": 0,
  "metadata": {
    "colab": {
      "provenance": [],
      "authorship_tag": "ABX9TyNEQlRsmIirOn6TPiDn0Q5Y",
      "include_colab_link": true
    },
    "kernelspec": {
      "name": "python3",
      "display_name": "Python 3"
    },
    "language_info": {
      "name": "python"
    }
  },
  "cells": [
    {
      "cell_type": "markdown",
      "metadata": {
        "id": "view-in-github",
        "colab_type": "text"
      },
      "source": [
        "<a href=\"https://colab.research.google.com/github/clauccg0507/uv_visible/blob/main/proyecto_final_qm2515.ipynb\" target=\"_parent\"><img src=\"https://colab.research.google.com/assets/colab-badge.svg\" alt=\"Open In Colab\"/></a>"
      ]
    },
    {
      "cell_type": "code",
      "execution_count": null,
      "metadata": {
        "id": "6Mz9TiPhNmXf"
      },
      "outputs": [],
      "source": [
        "import tensorflow as tf\n",
        "import numpy as np\n",
        "\n",
        "#Datos\n",
        "longitud_onda=np.array([190, 191, 192, 193, 194, 195, 196, 197, 198, 199, 200], dtype=float)\n",
        "absorbancia0_2=np.array([3.417273998, 3.690074921, 3.628536224, 3.825445652, 3.999999523, 3.928619385, 3.994042397, 3.999999523, 3.840945721, 3.898296833, 3.999999523], dtype=float)\n",
        "absorbancia0_5=np.array([3.699104786, 3.801232338, 3.999999523, 3.671196938, 3.963742733, 3.811205387, 3.987842083, 3.999999523, 3.999999523, 3.963247776, 3.999999523], dtype=float)\n",
        "absorbancia1=np.array([3.54507494, 3.661262512, 3.927582264, 3.698320866, 3.974525452, 3.934635639, 3.993217468, 3.999999523, 3.841976643, 3.814021111, 3.999999523], dtype=float)\n",
        "absorbancia2=np.array([3.707177639, 3.854127407, 3.999999523, 3.995221138, 3.999999523, 3.842171669, 3.989663124, 3.999999523, 3.84219408, 3.789210796, 3.999999523], dtype=float)\n",
        "absorbancia3=np.array([3.349434376, 3.708992958, 3.821416855, 3.622106552, 3.967209816, 3.999999523, 3.998672009, 3.999999523, 3.999999046, 3.999999046, 3.999999046], dtype=float)\n",
        "absorbancia4=np.array([3.304504395, 3.924089909, 3.899831295, 3.762094498, 3.982429504, 3.999999523, 3.997755051, 3.999999523, 3.840437412, 3.812704563, 3.999999523], dtype=float)\n",
        "absorbancia5=np.array([3.510705471, 3.978807449, 3.794260979, 3.673560619, 3.976826668, 3.999999523, 3.999103546, 3.999905586, 3.999999523, 3.962069035, 3.999999523], dtype=float)\n",
        "\n",
        "capa_entrada=tf.keras.layers.Dense(units=1, input_shape=[1])\n",
        "capa_oculta_1 = tf.keras.layers.Dense(units=3, input_shape=[1])\n",
        "capa_oculta_2 = tf.keras.layers.Dense(units=3)\n",
        "capa_salida = tf.keras.layers.Dense(units=1)\n",
        "modelo = tf.keras.Sequential([capa_entrada])\n",
        "modelo = tf.keras.Sequential([capa_oculta_1, capa_oculta_2, capa_salida])\n",
        "modelo.compile(optimizer=tf.keras.optimizers.Adam(0.1), loss=\"mean_squared_error\")"
      ]
    },
    {
      "cell_type": "code",
      "source": [
        "print(\"Comenzando entrenamiento...\")\n",
        "historial=modelo.fit(longitud_onda, absorbancia0_2, epochs=1000, verbose=False)\n",
        "print(\"¡Modelo entrenado!\")"
      ],
      "metadata": {
        "colab": {
          "base_uri": "https://localhost:8080/"
        },
        "id": "z-bhD-M88npY",
        "outputId": "a141ae33-d281-433c-cb3b-8c3896a7c552"
      },
      "execution_count": null,
      "outputs": [
        {
          "output_type": "stream",
          "name": "stdout",
          "text": [
            "Comenzando entrenamiento...\n",
            "¡Modelo entrenado!\n"
          ]
        }
      ]
    },
    {
      "cell_type": "code",
      "source": [
        "print(\"Hagamos una predicción\")\n",
        "resultado = modelo.predict([201])\n",
        "print(\"El resultado es\"+str(resultado)+\"AU\")"
      ],
      "metadata": {
        "colab": {
          "base_uri": "https://localhost:8080/"
        },
        "id": "tVBKLRGp9FZs",
        "outputId": "68b0d968-34c9-4715-e0ae-773da8eaa374"
      },
      "execution_count": null,
      "outputs": [
        {
          "output_type": "stream",
          "name": "stdout",
          "text": [
            "Hagamos una predicción\n",
            "1/1 [==============================] - 0s 35ms/step\n",
            "El resultado es[[3.9556124]]AU\n"
          ]
        }
      ]
    },
    {
      "cell_type": "code",
      "source": [
        "print(\"Variables internas del modelo\")\n",
        "print(capa_entrada.get_weights())\n",
        "print(capa_oculta_1.get_weights())\n",
        "print(capa_oculta_2.get_weights())\n",
        "print(capa_salida.get_weights())"
      ],
      "metadata": {
        "colab": {
          "base_uri": "https://localhost:8080/"
        },
        "id": "OQpeXMiV__Cj",
        "outputId": "1a4e8b37-8341-4777-b223-205a084fee91"
      },
      "execution_count": null,
      "outputs": [
        {
          "output_type": "stream",
          "name": "stdout",
          "text": [
            "Variables internas del modelo\n",
            "[array([[-0.27193213]], dtype=float32), array([0.], dtype=float32)]\n",
            "[array([[-0.04779639,  0.46279398, -0.52546597]], dtype=float32), array([-0.97292227, -0.47932187,  0.561104  ], dtype=float32)]\n",
            "[array([[-0.3662222 , -0.0431857 ,  0.14476448],\n",
            "       [-0.77577716, -0.98858464, -0.5111131 ],\n",
            "       [-0.7660492 , -0.6589565 , -0.6701938 ]], dtype=float32), array([-0.08197266, -0.00029492, -0.15697911], dtype=float32)]\n",
            "[array([[-0.48356998],\n",
            "       [-0.53062934],\n",
            "       [-0.0838365 ]], dtype=float32), array([0.21808559], dtype=float32)]\n"
          ]
        }
      ]
    },
    {
      "cell_type": "code",
      "source": [
        "import tensorflow as tf\n",
        "import numpy as np\n",
        "\n",
        "#Datos para longitud de onda de 190 nm\n",
        "concentracion=np.array([0.2, 0.5, 1, 2, 3, 4, 5], dtype=float)\n",
        "longitud_onda=np.array([190], dtype=float)\n",
        "absorbancia=np.array([3.417273998, 3.699104786, 3.54507494, 3.707177639, 3.349434376, 3.304504395, 3.510705471], dtype=float)\n",
        "\n",
        "capa_entrada=tf.keras.layers.Dense(units=1, input_shape=[1])\n",
        "capa_oculta_1 = tf.keras.layers.Dense(units=3, input_shape=[1])\n",
        "capa_oculta_2 = tf.keras.layers.Dense(units=3)\n",
        "capa_salida = tf.keras.layers.Dense(units=1)\n",
        "modelo = tf.keras.Sequential([capa_entrada])\n",
        "modelo = tf.keras.Sequential([capa_oculta_1, capa_oculta_2, capa_salida])\n",
        "modelo.compile(optimizer=tf.keras.optimizers.Adam(0.1), loss=\"mean_squared_error\")"
      ],
      "metadata": {
        "id": "jFAoeG9nEnVs"
      },
      "execution_count": null,
      "outputs": []
    },
    {
      "cell_type": "code",
      "source": [
        "print(\"Comenzando entrenamiento...\")\n",
        "historial=modelo.fit(absorbancia, concentracion, epochs=1000, verbose=False)\n",
        "print(\"¡Modelo entrenado!\")"
      ],
      "metadata": {
        "colab": {
          "base_uri": "https://localhost:8080/"
        },
        "id": "1GN8yBlRFsmu",
        "outputId": "d682af26-0ede-4ad6-95e3-2742ccd02187"
      },
      "execution_count": null,
      "outputs": [
        {
          "output_type": "stream",
          "name": "stdout",
          "text": [
            "Comenzando entrenamiento...\n",
            "¡Modelo entrenado!\n"
          ]
        }
      ]
    },
    {
      "cell_type": "code",
      "source": [
        "print(\"Hagamos una predicción\")\n",
        "resultado = modelo.predict([3.41259050369263])\n",
        "print(\"El resultado es\"+str(resultado)+\"ppm\")\n",
        "\n",
        "#La muestra problema, según lo hallado en esta predicción, debe ser aproximadamente de 2.67 ppm"
      ],
      "metadata": {
        "colab": {
          "base_uri": "https://localhost:8080/"
        },
        "id": "yzMAGdshGC-z",
        "outputId": "b755fb51-d22c-4c70-f0cf-2b7e05c59b3b"
      },
      "execution_count": null,
      "outputs": [
        {
          "output_type": "stream",
          "name": "stdout",
          "text": [
            "Hagamos una predicción\n",
            "1/1 [==============================] - 0s 35ms/step\n",
            "El resultado es[[2.6739688]]ppm\n"
          ]
        }
      ]
    },
    {
      "cell_type": "code",
      "source": [
        "print(\"Variables internas del modelo\")\n",
        "print(capa_entrada.get_weights())\n",
        "print(capa_oculta_1.get_weights())\n",
        "print(capa_oculta_2.get_weights())\n",
        "print(capa_salida.get_weights())"
      ],
      "metadata": {
        "colab": {
          "base_uri": "https://localhost:8080/"
        },
        "id": "2e8Zt6U5HbME",
        "outputId": "2447bdbb-d153-4e34-8cbe-2f8025839a2b"
      },
      "execution_count": null,
      "outputs": [
        {
          "output_type": "stream",
          "name": "stdout",
          "text": [
            "Variables internas del modelo\n",
            "[array([[-0.96796614]], dtype=float32), array([0.], dtype=float32)]\n",
            "[array([[0.4426652 , 0.83404315, 0.7017893 ]], dtype=float32), array([-1.1899536, -1.7958826, -1.975106 ], dtype=float32)]\n",
            "[array([[ 0.3190539 ,  0.5610238 , -0.02477281],\n",
            "       [ 0.7023356 ,  1.1590153 ,  0.718394  ],\n",
            "       [ 2.0233412 ,  1.372351  , -0.49105704]], dtype=float32), array([-1.0232128 , -1.9197228 , -0.96551067], dtype=float32)]\n",
            "[array([[-0.7940301],\n",
            "       [-1.3329357],\n",
            "       [-0.285964 ]], dtype=float32), array([3.1530266], dtype=float32)]\n"
          ]
        }
      ]
    }
  ]
}